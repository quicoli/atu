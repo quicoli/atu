{
  "nbformat": 4,
  "nbformat_minor": 0,
  "metadata": {
    "kernelspec": {
      "display_name": "Python 3",
      "language": "python",
      "name": "python3"
    },
    "language_info": {
      "codemirror_mode": {
        "name": "ipython",
        "version": 3
      },
      "file_extension": ".py",
      "mimetype": "text/x-python",
      "name": "python",
      "nbconvert_exporter": "python",
      "pygments_lexer": "ipython3",
      "version": "3.7.3"
    },
    "colab": {
      "provenance": [],
      "collapsed_sections": [],
      "include_colab_link": true
    }
  },
  "cells": [
    {
      "cell_type": "markdown",
      "metadata": {
        "id": "view-in-github",
        "colab_type": "text"
      },
      "source": [
        "<a href=\"https://colab.research.google.com/github/quicoli/atu/blob/main/02-Principles%20of%20Artificial%20Intelligence/Week%2001/IntroPython1.ipynb\" target=\"_parent\"><img src=\"https://colab.research.google.com/assets/colab-badge.svg\" alt=\"Open In Colab\"/></a>"
      ]
    },
    {
      "cell_type": "markdown",
      "metadata": {
        "id": "ziYR50ruoOAF"
      },
      "source": [
        "# Python Refresher"
      ]
    },
    {
      "cell_type": "markdown",
      "source": [
        "Boolean Operations\n",
        "\n",
        "The Boolean data type is a truth value, either\n",
        "True or False\n",
        "\n",
        "The Boolean operators ordered by priority: not->and->or\n"
      ],
      "metadata": {
        "id": "7rXPfjd0Jq-W"
      }
    },
    {
      "cell_type": "code",
      "source": [
        "#Assigning variables - This is a comment\n",
        "x = True\n",
        "y = False\n",
        "\n",
        "#Visualising the results of the following Boolean operations \n",
        "#print is a native function of Python that helps you to achieve that\n",
        "print(not x)\n",
        "print(x and y)\n",
        "print(x and not y)\n",
        "print(x or y)"
      ],
      "metadata": {
        "colab": {
          "base_uri": "https://localhost:8080/"
        },
        "id": "OoGhmi3iJqZc",
        "outputId": "168e2625-688f-4e05-de8b-848fbe200b3e"
      },
      "execution_count": 1,
      "outputs": [
        {
          "output_type": "stream",
          "name": "stdout",
          "text": [
            "False\n",
            "False\n",
            "True\n",
            "True\n"
          ]
        }
      ]
    },
    {
      "cell_type": "markdown",
      "source": [
        "E1. Now try to create a variable *z= (2<1)* and a variable *r = (10>5)* and apply a *not* operation on *z* and perform *and* and *or* operations with *r*. Make sure You print the results "
      ],
      "metadata": {
        "id": "yHXwhx3KZccZ"
      }
    },
    {
      "cell_type": "code",
      "source": [
        "z = (2<1)\n",
        "r = (10>5)\n",
        "print(not z)\n",
        "print(not z and r)\n",
        "print(not z or r)"
      ],
      "metadata": {
        "id": "ks0h6UFxZbEl",
        "outputId": "bd3d87ce-e87d-4293-8eaf-6fec4b78285c",
        "colab": {
          "base_uri": "https://localhost:8080/"
        }
      },
      "execution_count": 2,
      "outputs": [
        {
          "output_type": "stream",
          "name": "stdout",
          "text": [
            "True\n",
            "True\n",
            "True\n"
          ]
        }
      ]
    },
    {
      "cell_type": "markdown",
      "source": [
        "Arithmetic Operations\n",
        "\n",
        "An **integer** is a positive or negative number without floating point (e.g. 9). \n",
        "\n",
        "A **float** is a positive or negative number with floating point precision (e.g. 3.14159265359).\n"
      ],
      "metadata": {
        "id": "JQR6qsrCapwo"
      }
    },
    {
      "cell_type": "code",
      "source": [
        "#I can assign two variables in one row\n",
        "a,b = 10, -9\n",
        "#Using the arithmetic operators\n",
        "print(a+b)\n",
        "print(a-b)\n",
        "print(a*b)\n",
        "print(a/b)\n",
        "#Integer division operation returns a rounded number towards the smaller integer\n",
        "print(a//b)\n",
        "#Modulus\n",
        "print(a%b) \n",
        "print(-b)\n",
        "print(abs(b))\n",
        "#Exponentiation\n",
        "print(b**a)\n",
        "print(float(b))\n",
        "print(int(b))"
      ],
      "metadata": {
        "colab": {
          "base_uri": "https://localhost:8080/"
        },
        "id": "Zs1-Qn7Qa4aO",
        "outputId": "b3beb7ef-acaa-4e8d-9d55-dde3b86357e8"
      },
      "execution_count": null,
      "outputs": [
        {
          "output_type": "stream",
          "name": "stdout",
          "text": [
            "1\n",
            "19\n",
            "-90\n",
            "-1.1111111111111112\n",
            "-2\n",
            "-8\n",
            "9\n",
            "9\n",
            "3486784401\n",
            "-9.0\n",
            "-9\n"
          ]
        }
      ]
    },
    {
      "cell_type": "markdown",
      "source": [
        "E2. Using variables and arithmetic operations introduce the following operation:\n",
        "\n",
        "result = a^2 +2bc -b^2 + a/b , where a=10, b=2, and c =3"
      ],
      "metadata": {
        "id": "2nzw-xRydtpv"
      }
    },
    {
      "cell_type": "code",
      "source": [
        "a = 10\n",
        "b = 2\n",
        "c = 3\n",
        "\n",
        "result = (a**2) + (2*b*c)-(b**2)+(a/b)\n",
        "print(result)"
      ],
      "metadata": {
        "id": "uSmAGKUGeX0E",
        "outputId": "aa37c300-13cf-4705-f46f-718a9b0abce8",
        "colab": {
          "base_uri": "https://localhost:8080/"
        }
      },
      "execution_count": 3,
      "outputs": [
        {
          "output_type": "stream",
          "name": "stdout",
          "text": [
            "113.0\n"
          ]
        }
      ]
    },
    {
      "cell_type": "markdown",
      "source": [
        "Strings\n",
        "Python Strings are sequences of characters.\n",
        "\n",
        "The four main ways to create strings are the\n",
        "following:\n",
        "\n",
        "1. Single quotes\n",
        "`'No'`\n",
        "2. Double quotes\n",
        "`\"No\"`\n",
        "3. Triple quotes (multi-line)\n",
        "```\n",
        "\"\"\"No\n",
        "You cannot go to bed late\"\"\"\n",
        "```\n",
        "\n",
        "Creating a String object:\n",
        "\n",
        "str(109)\n"
      ],
      "metadata": {
        "id": "Duy-XQaUeaHM"
      }
    },
    {
      "cell_type": "code",
      "source": [
        "print(str(109)==\"109\")"
      ],
      "metadata": {
        "colab": {
          "base_uri": "https://localhost:8080/"
        },
        "id": "9sgPoweAl6DP",
        "outputId": "e565262d-3309-46bc-c1e7-d526640ba2a9"
      },
      "execution_count": null,
      "outputs": [
        {
          "output_type": "stream",
          "name": "stdout",
          "text": [
            "True\n"
          ]
        }
      ]
    },
    {
      "cell_type": "code",
      "source": [
        "## Indexing and Slicing Strings\n",
        "s = \"The lion (Panthera leo) is a large cat of the genus Panthera native to Africa and India.\"\n",
        "print(s[0]) # 'T'\n",
        "print(s[1:3]) # 'he'\n",
        "print(s[-3:-1]) # 'ia'\n",
        "print(s[-3:]) # 'ia.'\n",
        "x = s.split() # function that creates string array of words\n",
        "print(x[-3] + \" \" + x[-1] + \" \" + x[2] + \"s\") #Africa India. (Pantheras\n",
        "print(x[0] + \" \" + x[1] + \" \" + x[-2])# The lion and\n",
        "\n"
      ],
      "metadata": {
        "colab": {
          "base_uri": "https://localhost:8080/"
        },
        "id": "q0zQ7zZKnUZZ",
        "outputId": "7940284d-dc0d-4f0d-d894-eae22c26d29b"
      },
      "execution_count": null,
      "outputs": [
        {
          "output_type": "stream",
          "name": "stdout",
          "text": [
            "T\n",
            "he\n",
            "ia\n",
            "ia.\n",
            "Africa India. (Pantheras\n",
            "The lion and\n"
          ]
        }
      ]
    },
    {
      "cell_type": "markdown",
      "source": [
        "E3. if *r = \"the hippo, hippopotamus, or river hippopotamus, is a large semiaquatic mammal native to sub-Saharan Africa\"*\n",
        "\n",
        "1) Show the substring: the hippo, hippopotamus, or river hippopotamus\n",
        "2) Show the substring: sub-Saharan Africa\n",
        "3) Show the substring: river hippopotamus\n",
        "All using code"
      ],
      "metadata": {
        "id": "t4bedmbdoB0D"
      }
    },
    {
      "cell_type": "code",
      "source": [
        "r = \"the hippo, hippopotamus, or river hippopotamus, is a large semiaquatic mammal native to sub-Saharan Africa\"\n",
        "print(r[0:46])\n",
        "print(r[-18:])\n",
        "print(r[28:34])\n",
        "\n",
        "\n"
      ],
      "metadata": {
        "id": "jHgbaaxitwzO",
        "outputId": "3822a321-0a13-4378-bb98-15df41b375ca",
        "colab": {
          "base_uri": "https://localhost:8080/"
        }
      },
      "execution_count": 13,
      "outputs": [
        {
          "output_type": "stream",
          "name": "stdout",
          "text": [
            "the hippo, hippopotamus, or river hippopotamus\n",
            "sub-Saharan Africa\n",
            "river \n"
          ]
        }
      ]
    },
    {
      "cell_type": "code",
      "source": [
        "## Most Important String Methods\n",
        "s= \"   \"+s[0:8]+\"  \"\n",
        "print(s)\n",
        "print(s.strip()) # Remove Whitespace: The lion\n",
        "s = s.strip() # saving the result in s\n",
        "print(s.lower()) # Lowercase: the lion\n",
        "print(s.upper()) # Uppercase: THE LION \n",
        "print(s.startswith(\"li\")) # False\n",
        "print(s.endswith(\"on\")) # True\n",
        "print(s.find(\"lion\")) # Match index: 4\n",
        "print(s.replace(\"on\", \"me\")) # 'lime'\n",
        "print(s.join([\"F\", \"B\", \"I\"])) # 'F,B,I'\n",
        "print(len(\"LION\")) # String length: 4\n",
        "print(\"jupi\" in \"jupiter\") # Contains: True\n"
      ],
      "metadata": {
        "colab": {
          "base_uri": "https://localhost:8080/"
        },
        "id": "0q_L0CrDvHp3",
        "outputId": "ac8e2909-f2fd-4752-fc45-2d99b8e03fc8"
      },
      "execution_count": null,
      "outputs": [
        {
          "output_type": "stream",
          "name": "stdout",
          "text": [
            "   The lion  \n",
            "The lion\n",
            "the lion\n",
            "THE LION\n",
            "False\n",
            "True\n",
            "4\n",
            "The lime\n",
            "FThe lionBThe lionI\n",
            "4\n",
            "True\n"
          ]
        }
      ]
    },
    {
      "cell_type": "markdown",
      "source": [
        "E4. if s = \"The giant panda is a bear species endemic to China\"\n",
        "\n",
        "Show s in lowecarse, uppercase and concatenate both and replace the word \"giant\" by the word \"small\""
      ],
      "metadata": {
        "id": "I_Sg9180txbs"
      }
    },
    {
      "cell_type": "code",
      "metadata": {
        "id": "pfBWY-N57C_c",
        "outputId": "c01b473e-a92b-4b8a-e3d1-d9719c090bcb",
        "colab": {
          "base_uri": "https://localhost:8080/"
        }
      },
      "source": [
        "s = \"The giant panda is a bear species endemic to China\"\n",
        "sLower = s.lower()\n",
        "sUpper = s.upper()\n",
        "print(sLower)\n",
        "print(sUpper)\n",
        "sJoin=sLower+sUpper\n",
        "\n",
        "print(s.replace(\"giant\",\"small\"))"
      ],
      "execution_count": 22,
      "outputs": [
        {
          "output_type": "stream",
          "name": "stdout",
          "text": [
            "the giant panda is a bear species endemic to china\n",
            "THE GIANT PANDA IS A BEAR SPECIES ENDEMIC TO CHINA\n",
            "The small panda is a bear species endemic to China\n"
          ]
        }
      ]
    }
  ]
}